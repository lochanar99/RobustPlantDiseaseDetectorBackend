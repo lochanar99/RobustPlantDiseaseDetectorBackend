{
 "cells": [
  {
   "cell_type": "code",
   "execution_count": 2,
   "source": [
    "from tensorflow.keras.models import load_model \r\n",
    "from tensorflow.keras.preprocessing.image import ImageDataGenerator\r\n",
    "from tensorflow.keras.preprocessing import image\r\n",
    "import numpy as np"
   ],
   "outputs": [],
   "metadata": {}
  },
  {
   "cell_type": "code",
   "execution_count": 3,
   "source": [
    "model=load_model('train_data.hdf5')\r\n",
    "model.load_weights('weights.hdf5')\r\n",
    "model.summary()"
   ],
   "outputs": [
    {
     "output_type": "stream",
     "name": "stdout",
     "text": [
      "Model: \"sequential_1\"\n",
      "_________________________________________________________________\n",
      "Layer (type)                 Output Shape              Param #   \n",
      "=================================================================\n",
      "conv2d_1 (Conv2D)            (None, 54, 54, 96)        34944     \n",
      "_________________________________________________________________\n",
      "max_pooling2d_1 (MaxPooling2 (None, 27, 27, 96)        0         \n",
      "_________________________________________________________________\n",
      "batch_normalization_1 (Batch (None, 27, 27, 96)        384       \n",
      "_________________________________________________________________\n",
      "conv2d_2 (Conv2D)            (None, 17, 17, 256)       2973952   \n",
      "_________________________________________________________________\n",
      "max_pooling2d_2 (MaxPooling2 (None, 8, 8, 256)         0         \n",
      "_________________________________________________________________\n",
      "batch_normalization_2 (Batch (None, 8, 8, 256)         1024      \n",
      "_________________________________________________________________\n",
      "conv2d_3 (Conv2D)            (None, 6, 6, 384)         885120    \n",
      "_________________________________________________________________\n",
      "batch_normalization_3 (Batch (None, 6, 6, 384)         1536      \n",
      "_________________________________________________________________\n",
      "conv2d_4 (Conv2D)            (None, 4, 4, 384)         1327488   \n",
      "_________________________________________________________________\n",
      "batch_normalization_4 (Batch (None, 4, 4, 384)         1536      \n",
      "_________________________________________________________________\n",
      "conv2d_5 (Conv2D)            (None, 2, 2, 256)         884992    \n",
      "_________________________________________________________________\n",
      "max_pooling2d_3 (MaxPooling2 (None, 1, 1, 256)         0         \n",
      "_________________________________________________________________\n",
      "batch_normalization_5 (Batch (None, 1, 1, 256)         1024      \n",
      "_________________________________________________________________\n",
      "flatten_1 (Flatten)          (None, 256)               0         \n",
      "_________________________________________________________________\n",
      "dense_1 (Dense)              (None, 4096)              1052672   \n",
      "_________________________________________________________________\n",
      "dropout_1 (Dropout)          (None, 4096)              0         \n",
      "_________________________________________________________________\n",
      "batch_normalization_6 (Batch (None, 4096)              16384     \n",
      "_________________________________________________________________\n",
      "dense_2 (Dense)              (None, 4096)              16781312  \n",
      "_________________________________________________________________\n",
      "dropout_2 (Dropout)          (None, 4096)              0         \n",
      "_________________________________________________________________\n",
      "batch_normalization_7 (Batch (None, 4096)              16384     \n",
      "_________________________________________________________________\n",
      "dense_3 (Dense)              (None, 1000)              4097000   \n",
      "_________________________________________________________________\n",
      "dropout_3 (Dropout)          (None, 1000)              0         \n",
      "_________________________________________________________________\n",
      "batch_normalization_8 (Batch (None, 1000)              4000      \n",
      "_________________________________________________________________\n",
      "dense_4 (Dense)              (None, 38)                38038     \n",
      "=================================================================\n",
      "Total params: 28,117,790\n",
      "Trainable params: 4,137,038\n",
      "Non-trainable params: 23,980,752\n",
      "_________________________________________________________________\n"
     ]
    }
   ],
   "metadata": {}
  },
  {
   "cell_type": "code",
   "execution_count": 4,
   "source": [
    "\r\n",
    "img1 = \"images\\\\blackrot.jpg\"\r\n",
    "img1 = image.load_img(img1, target_size=(224, 224))\r\n",
    "img1 = image.img_to_array(img1)\r\n",
    "img1 = np.expand_dims(img1, axis=0)\r\n",
    "img1 = img1/255\r\n",
    "pred = model.predict(img1)\r\n",
    "y = np.argmax(pred)\r\n",
    "print(y)\r\n"
   ],
   "outputs": [
    {
     "output_type": "stream",
     "name": "stdout",
     "text": [
      "1\n"
     ]
    }
   ],
   "metadata": {}
  },
  {
   "cell_type": "code",
   "execution_count": 19,
   "source": [
    "# iterating over the test images and predicting the class\r\n",
    "import os\r\n",
    "for images in os.listdir(\"t\\\\test\"):\r\n",
    "    img = \"t\\\\test\\\\\" + images\r\n",
    "    img = image.load_img(img, target_size=(224, 224))\r\n",
    "    img = image.img_to_array(img)\r\n",
    "    img = np.expand_dims(img, axis=0)\r\n",
    "    img = img/255\r\n",
    "    pred = model.predict(img)\r\n",
    "    y = np.argmax(pred)\r\n",
    "    print(\"Image Name:\", images ,\"Prediction:\", y)"
   ],
   "outputs": [
    {
     "output_type": "stream",
     "name": "stdout",
     "text": [
      "Image Name: AppleCedarRust1.JPG Prediction: 2\n",
      "Image Name: AppleCedarRust2.JPG Prediction: 2\n",
      "Image Name: AppleCedarRust3.JPG Prediction: 2\n",
      "Image Name: AppleCedarRust4.JPG Prediction: 2\n",
      "Image Name: AppleScab1.JPG Prediction: 0\n",
      "Image Name: AppleScab2.JPG Prediction: 0\n",
      "Image Name: AppleScab3.JPG Prediction: 20\n",
      "Image Name: CornCommonRust1.JPG Prediction: 8\n",
      "Image Name: CornCommonRust2.JPG Prediction: 8\n",
      "Image Name: CornCommonRust3.JPG Prediction: 8\n",
      "Image Name: PotatoEarlyBlight1.JPG Prediction: 20\n",
      "Image Name: PotatoEarlyBlight2.JPG Prediction: 20\n",
      "Image Name: PotatoEarlyBlight3.JPG Prediction: 20\n",
      "Image Name: PotatoEarlyBlight4.JPG Prediction: 20\n",
      "Image Name: PotatoEarlyBlight5.JPG Prediction: 0\n",
      "Image Name: PotatoHealthy1.JPG Prediction: 22\n",
      "Image Name: PotatoHealthy2.JPG Prediction: 22\n",
      "Image Name: TomatoEarlyBlight1.JPG Prediction: 29\n",
      "Image Name: TomatoEarlyBlight2.JPG Prediction: 29\n",
      "Image Name: TomatoEarlyBlight3.JPG Prediction: 29\n",
      "Image Name: TomatoEarlyBlight4.JPG Prediction: 29\n",
      "Image Name: TomatoEarlyBlight5.JPG Prediction: 29\n",
      "Image Name: TomatoEarlyBlight6.JPG Prediction: 29\n",
      "Image Name: TomatoHealthy1.JPG Prediction: 37\n",
      "Image Name: TomatoHealthy2.JPG Prediction: 37\n",
      "Image Name: TomatoHealthy3.JPG Prediction: 37\n",
      "Image Name: TomatoHealthy4.JPG Prediction: 37\n",
      "Image Name: TomatoYellowCurlVirus1.JPG Prediction: 35\n",
      "Image Name: TomatoYellowCurlVirus2.JPG Prediction: 35\n",
      "Image Name: TomatoYellowCurlVirus3.JPG Prediction: 35\n",
      "Image Name: TomatoYellowCurlVirus4.JPG Prediction: 35\n",
      "Image Name: TomatoYellowCurlVirus5.JPG Prediction: 35\n",
      "Image Name: TomatoYellowCurlVirus6.JPG Prediction: 35\n"
     ]
    }
   ],
   "metadata": {}
  },
  {
   "cell_type": "markdown",
   "source": [
    "### Saving all the classes in the dictionary"
   ],
   "metadata": {}
  },
  {
   "cell_type": "code",
   "execution_count": 20,
   "source": [
    "classes = {'Apple___Apple_scab': 0, 'Apple___Black_rot': 1, 'Apple___Cedar_apple_rust': 2, 'Apple___healthy': 3, 'Blueberry___healthy': 4, 'Cherry_(including_sour)___Powdery_mildew': 5, 'Cherry_(including_sour)___healthy': 6, 'Corn_(maize)___Cercospora_leaf_spot Gray_leaf_spot': 7, 'Corn_(maize)___Common_rust_': 8, 'Corn_(maize)___Northern_Leaf_Blight': 9, 'Corn_(maize)___healthy': 10, 'Grape___Black_rot': 11, 'Grape___Esca_(Black_Measles)': 12, 'Grape___Leaf_blight_(Isariopsis_Leaf_Spot)': 13, 'Grape___healthy': 14, 'Orange___Haunglongbing_(Citrus_greening)': 15, 'Peach___Bacterial_spot': 16, 'Peach___healthy': 17, 'Pepper,_bell___Bacterial_spot': 18, 'Pepper,_bell___healthy': 19, 'Potato___Early_blight': 20, 'Potato___Late_blight': 21, 'Potato___healthy': 22, 'Raspberry___healthy': 23, 'Soybean___healthy': 24, 'Squash___Powdery_mildew': 25, 'Strawberry___Leaf_scorch': 26, 'Strawberry___healthy': 27, 'Tomato___Bacterial_spot': 28, 'Tomato___Early_blight': 29, 'Tomato___Late_blight': 30, 'Tomato___Leaf_Mold': 31, 'Tomato___Septoria_leaf_spot': 32, 'Tomato___Spider_mites Two-spotted_spider_mite': 33, 'Tomato___Target_Spot': 34, 'Tomato___Tomato_Yellow_Leaf_Curl_Virus': 35, 'Tomato___Tomato_mosaic_virus': 36, 'Tomato___healthy': 37}"
   ],
   "outputs": [],
   "metadata": {}
  },
  {
   "cell_type": "markdown",
   "source": [
    "### Converting the dictionary to dataframe and finally saved it as csv file"
   ],
   "metadata": {}
  },
  {
   "cell_type": "code",
   "execution_count": 6,
   "source": [
    "\r\n",
    "import pandas as pd"
   ],
   "outputs": [],
   "metadata": {}
  },
  {
   "cell_type": "code",
   "execution_count": 15,
   "source": [
    "new = pd.read_csv('classes.csv', encoding='latin1')\r\n",
    "new.iloc[1][:]"
   ],
   "outputs": [
    {
     "output_type": "execute_result",
     "data": {
      "text/plain": [
       "label                      1\n",
       "pesticide       Myclobutanil\n",
       "classes      Apple Black rot\n",
       "Name: 1, dtype: object"
      ]
     },
     "metadata": {},
     "execution_count": 15
    }
   ],
   "metadata": {}
  },
  {
   "cell_type": "code",
   "execution_count": 27,
   "source": [
    "\r\n",
    "def prediction(img_path):\r\n",
    "    # PIL image loading\r\n",
    "    img = image.load_img(img_path, target_size=(224, 224))\r\n",
    "    img = image.img_to_array(img)\r\n",
    "    img = np.expand_dims(img, axis=0)\r\n",
    "    img = img/255\r\n",
    "    pred = model.predict(img)\r\n",
    "    y = np.argmax(pred)\r\n",
    "    return y\r\n",
    "\r\n",
    "prediction('t\\\\test\\\\CornCommonRust1.JPG')"
   ],
   "outputs": [
    {
     "output_type": "execute_result",
     "data": {
      "text/plain": [
       "8"
      ]
     },
     "metadata": {},
     "execution_count": 27
    }
   ],
   "metadata": {}
  },
  {
   "cell_type": "code",
   "execution_count": null,
   "source": [],
   "outputs": [],
   "metadata": {}
  }
 ],
 "metadata": {
  "kernelspec": {
   "name": "python3",
   "display_name": "Python 3.9.7 64-bit ('leafdiseasedetection': conda)"
  },
  "language_info": {
   "codemirror_mode": {
    "name": "ipython",
    "version": 3
   },
   "file_extension": ".py",
   "mimetype": "text/x-python",
   "name": "python",
   "nbconvert_exporter": "python",
   "pygments_lexer": "ipython3",
   "version": "3.9.7"
  },
  "interpreter": {
   "hash": "5df1e7d5cce0c6e81d17e02fbae45b2b969eaff91721af89a364111aafd92fe0"
  }
 },
 "nbformat": 4,
 "nbformat_minor": 5
}